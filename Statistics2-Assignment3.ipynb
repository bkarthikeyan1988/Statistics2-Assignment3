{
 "cells": [
  {
   "cell_type": "markdown",
   "metadata": {},
   "source": [
    "### Task 1\n",
    "Two balls are drawn at random in succession without replacement from an urn\n",
    "containing 4 red balls and 6 black balls.\n",
    "Find the probabilities of all the possible outcomes\n",
    "\n",
    "##### Solution:\n",
    "4 Red and 6 Black Balls => Total 10\n",
    "\n",
    "So, 10 * 9 = 90 total ways to draw two balls\n",
    "\n",
    "To Confirm the above:\n",
    "Possible draws: \n",
    "RR => 4*3 = 12\n",
    "RB => 4*6 = 24\n",
    "BR => 6*4 = 24\n",
    "BB => 6*5 = 30\n",
    "\n",
    "Total = (RR + RB + BR + BB) => (12 + 24 + 24 + 30) => 90"
   ]
  },
  {
   "cell_type": "code",
   "execution_count": 1,
   "metadata": {},
   "outputs": [
    {
     "data": {
      "text/plain": [
       "10"
      ]
     },
     "metadata": {},
     "output_type": "display_data"
    }
   ],
   "source": [
    "# Probability of Possible Outcomes P\n",
    "# Red Balls R\n",
    "# Black Balls B\n",
    "# Total Balls T\n",
    "R = 4\n",
    "B = 6\n",
    "T = R + B\n",
    "display(T)"
   ]
  },
  {
   "cell_type": "code",
   "execution_count": 4,
   "metadata": {},
   "outputs": [
    {
     "data": {
      "text/plain": [
       "90"
      ]
     },
     "metadata": {},
     "output_type": "display_data"
    }
   ],
   "source": [
    "# No possibiblities\n",
    "# N = n*(n-1)\n",
    "N = 10*9\n",
    "display(N)"
   ]
  },
  {
   "cell_type": "code",
   "execution_count": 5,
   "metadata": {},
   "outputs": [
    {
     "data": {
      "text/plain": [
       "12"
      ]
     },
     "metadata": {},
     "output_type": "display_data"
    }
   ],
   "source": [
    "# Confirm for Total Probabilty\n",
    "# Possible outcomes for RR n and n-1\n",
    "RR = 4 * 3\n",
    "display(RR)"
   ]
  },
  {
   "cell_type": "code",
   "execution_count": 6,
   "metadata": {},
   "outputs": [
    {
     "data": {
      "text/plain": [
       "24"
      ]
     },
     "metadata": {},
     "output_type": "display_data"
    }
   ],
   "source": [
    "# Possible outcomes for RB Red 4, Black 6\n",
    "RB = 4 * 6\n",
    "display(RB)"
   ]
  },
  {
   "cell_type": "code",
   "execution_count": 7,
   "metadata": {},
   "outputs": [
    {
     "data": {
      "text/plain": [
       "24"
      ]
     },
     "metadata": {},
     "output_type": "display_data"
    }
   ],
   "source": [
    "# Possible outcomes for BR Red 4, Black 6\n",
    "BR = 6 * 4\n",
    "display(BR)"
   ]
  },
  {
   "cell_type": "code",
   "execution_count": 8,
   "metadata": {},
   "outputs": [
    {
     "data": {
      "text/plain": [
       "30"
      ]
     },
     "metadata": {},
     "output_type": "display_data"
    }
   ],
   "source": [
    "# Possible outcomes for BB n and n-1\n",
    "BB = 6 * 5\n",
    "display(BB)"
   ]
  },
  {
   "cell_type": "code",
   "execution_count": 10,
   "metadata": {},
   "outputs": [
    {
     "data": {
      "text/plain": [
       "90"
      ]
     },
     "metadata": {},
     "output_type": "display_data"
    }
   ],
   "source": [
    "# Possible outcomes P\n",
    "P = RR + RB + BR + BB\n",
    "display(P)"
   ]
  },
  {
   "cell_type": "code",
   "execution_count": null,
   "metadata": {},
   "outputs": [],
   "source": []
  }
 ],
 "metadata": {
  "kernelspec": {
   "display_name": "Python 3",
   "language": "python",
   "name": "python3"
  },
  "language_info": {
   "codemirror_mode": {
    "name": "ipython",
    "version": 3
   },
   "file_extension": ".py",
   "mimetype": "text/x-python",
   "name": "python",
   "nbconvert_exporter": "python",
   "pygments_lexer": "ipython3",
   "version": "3.6.4"
  }
 },
 "nbformat": 4,
 "nbformat_minor": 2
}
